{
 "cells": [
  {
   "cell_type": "markdown",
   "metadata": {},
   "source": [
    "# Exercise 3.1\n",
    "This exercise extracts the hidden message embedded in Ex3_sound1.wav."
   ]
  },
  {
   "cell_type": "markdown",
   "metadata": {},
   "source": [
    "Firstly, we need to import the libraries required in the application."
   ]
  },
  {
   "cell_type": "code",
   "execution_count": 1,
   "metadata": {},
   "outputs": [],
   "source": [
    "# Import libraries\n",
    "import wave"
   ]
  },
  {
   "cell_type": "markdown",
   "metadata": {},
   "source": [
    "Next, we have the extract_message function that extracts the hidden message.\n",
    "\n",
    "The function takes in an audio file as the parameter, and extracts the least significant bit (LSB) of each byte in the frame. The LSBs are then joined into a binary string, which is converted to ASCII to reveal the hidden message. Finally, extra characters are removed from the end of the message."
   ]
  },
  {
   "cell_type": "code",
   "execution_count": 2,
   "metadata": {},
   "outputs": [],
   "source": [
    "# Function to extract hidden message\n",
    "def extract_message(audio_file):\n",
    "    # Initialize an empty string to store the extracted hidden message\n",
    "    hidden_message = ''\n",
    "    \n",
    "    # Open the WAV file in binary read mode\n",
    "    with wave.open(audio_file, 'rb') as wave_file:\n",
    "        # Read all frames from the WAV file\n",
    "        frames = wave_file.readframes(wave_file.getnframes())\n",
    "        \n",
    "        # Iterate through each frame in the WAV file\n",
    "        for frame in frames:\n",
    "            # Extract the least significant bit (LSB) of each byte in the frame\n",
    "            hidden_message += bin(frame)[-1]\n",
    "\n",
    "    # Convert the binary string to ASCII characters\n",
    "    message = ''.join(chr(int(hidden_message[i:i+8], 2)) for i in range(0, len(hidden_message), 8))\n",
    "    \n",
    "    # Check for extra characters in the message\n",
    "    separator_index = message.find('#####################################################')\n",
    "\n",
    "    # If the separator string is found\n",
    "    if separator_index != -1:\n",
    "        # Trim the message before the separator string\n",
    "        message = message[:separator_index]\n",
    "\n",
    "    return message"
   ]
  },
  {
   "cell_type": "markdown",
   "metadata": {},
   "source": [
    "Lastly, the extract_message function is called on Ex1_sound1.wav and the hidden message is printed."
   ]
  },
  {
   "cell_type": "code",
   "execution_count": 3,
   "metadata": {},
   "outputs": [
    {
     "name": "stdout",
     "output_type": "stream",
     "text": [
      "Hidden message: Mom I will not be home for supper\n"
     ]
    }
   ],
   "source": [
    "# Specify the audio file containing the hidden message\n",
    "audio_file = 'Ex3_sound1.wav'\n",
    "\n",
    "# Call the extract_message function to retrieve the hidden message\n",
    "message = extract_message(audio_file)\n",
    "\n",
    "# Print the extracted hidden message\n",
    "print(f'Hidden message: {message}')"
   ]
  }
 ],
 "metadata": {
  "kernelspec": {
   "display_name": "Python 3 (ipykernel)",
   "language": "python",
   "name": "python3"
  },
  "language_info": {
   "codemirror_mode": {
    "name": "ipython",
    "version": 3
   },
   "file_extension": ".py",
   "mimetype": "text/x-python",
   "name": "python",
   "nbconvert_exporter": "python",
   "pygments_lexer": "ipython3",
   "version": "3.11.5"
  }
 },
 "nbformat": 4,
 "nbformat_minor": 2
}
